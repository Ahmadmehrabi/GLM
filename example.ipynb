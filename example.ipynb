{
 "cells": [
  {
   "cell_type": "code",
   "execution_count": 1,
   "metadata": {},
   "outputs": [],
   "source": [
    "import numpy as np\n",
    "import matplotlib.pyplot as plt\n",
    "import linear as lg"
   ]
  },
  {
   "cell_type": "code",
   "execution_count": 3,
   "metadata": {},
   "outputs": [
    {
     "data": {
      "text/plain": [
       "<ErrorbarContainer object of 3 artists>"
      ]
     },
     "execution_count": 3,
     "metadata": {},
     "output_type": "execute_result"
    },
    {
     "data": {
      "image/png": "[encoded data removed]",
      "text/plain": [
       "<Figure size 432x288 with 1 Axes>"
      ]
     },
     "metadata": {
      "needs_background": "light"
     },
     "output_type": "display_data"
    }
   ],
   "source": [
    "# The Hubble function for LCDM normalized to 100\n",
    "def Hub(z,omh2,h2):\n",
    "    return np.sqrt(omh2*pow(1+z,3)+h2-omh2)\n",
    "\n",
    "\n",
    "n_obs = 50\n",
    "n_test = 500\n",
    "\n",
    "#Uncertainty of data points\n",
    "sig = 0.05\n",
    "\n",
    "omh2_true = 0.143\n",
    "h2_true = 0.48\n",
    "\n",
    "z_obs =np.linspace(0,3,n_obs)\n",
    "z_test =np.linspace(0,3,n_test)\n",
    "\n",
    "#Hubble at test points\n",
    "H_test = Hub(z_test,omh2_true,h2_true)\n",
    "\n",
    "H_true = Hub(z_obs,omh2_true,h2_true)\n",
    "\n",
    "# Random normal number with std=sig\n",
    "eps = np.random.normal(0,sig,n_obs)\n",
    "#adding uncertainty to the true H\n",
    "H_obs = H_true*( 1 + eps )\n",
    "dH_obs =  H_true*sig\n",
    "\n",
    "plt.plot(z_test,H_test,'r')\n",
    "plt.errorbar(z_obs,H_obs,yerr=dH_obs,fmt='bo')\n"
   ]
  },
  {
   "cell_type": "code",
   "execution_count": 12,
   "metadata": {},
   "outputs": [
    {
     "name": "stdout",
     "output_type": "stream",
     "text": [
      "The best parameters are [0.14079576 0.45921877]\n",
      "pos_mean is [0.14077993 0.45901614]\n",
      "pos_cov is [[ 8.94081801e-06 -2.47097868e-05]\n",
      " [-2.47097868e-05  3.35540138e-04]]\n",
      "ln(evidence) is -1.724977968148778\n"
     ]
    }
   ],
   "source": [
    "# Squaring Hubble data and its uncertainty\n",
    "H_obs_sqr = H_obs**2\n",
    "dH_sqr = 2*H_obs*dH_obs\n",
    "\n",
    "\n",
    "#list of functions for LCDM\n",
    "f1 = lambda z: pow(1+z,3) - 1 \n",
    "f2 = lambda z: 1\n",
    "fun1 = [f1,f2]\n",
    "\n",
    "#initializing the GLM \n",
    "reg_lcdm = lg.linear_reg(z_obs,H_obs_sqr,dH_sqr,2,fun1)\n",
    "\n",
    "#Maximum likelihood\n",
    "\n",
    "print(\"The best parameters are\",reg_lcdm.max_likelihood())\n",
    "\n",
    "#prior information on lcdm\n",
    "P = np.zeros(shape=(2,2))\n",
    "pri_mean = np.array([0.13,0.45])\n",
    "pri_std = [0.05,0.1]\n",
    "np.fill_diagonal(P, [1/sd**2 for sd in pri_std])\n",
    "\n",
    "# posterior distribution\n",
    "pos_mean,pos_cov = reg_lcdm.post_dist(pri_mean,P)\n",
    "print(f\"pos_mean is {pos_mean}\")\n",
    "print(f\"pos_cov is {pos_cov}\")\n",
    "\n",
    "# log evidence\n",
    "evid = reg_lcdm.evidenc(pri_mean,P)\n",
    "print(f\"ln(evidence) is {evid}\")\n"
   ]
  }
 ],
 "metadata": {
  "interpreter": {
   "hash": "8ee41aa08ffe68c3483aa3560bbe90ba8dafc7a90596183c42124ed39e0876c3"
  },
  "kernelspec": {
   "display_name": "Python 3.7.9 64-bit ('base': conda)",
   "language": "python",
   "name": "python3"
  },
  "language_info": {
   "codemirror_mode": {
    "name": "ipython",
    "version": 3
   },
   "file_extension": ".py",
   "mimetype": "text/x-python",
   "name": "python",
   "nbconvert_exporter": "python",
   "pygments_lexer": "ipython3",
   "version": "3.7.9"
  },
  "orig_nbformat": 4
 },
 "nbformat": 4,
 "nbformat_minor": 2
}
